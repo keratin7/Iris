{
 "cells": [
  {
   "cell_type": "code",
   "execution_count": 13,
   "metadata": {
    "collapsed": false
   },
   "outputs": [
    {
     "name": "stdout",
     "output_type": "stream",
     "text": [
      "Populating the interactive namespace from numpy and matplotlib\n"
     ]
    }
   ],
   "source": [
    "from sklearn.ensemble import RandomForestClassifier\n",
    "import pandas as pd\n",
    "from matplotlib import pyplot as plt\n",
    "%matplotlib inline\n",
    "%pylab inline\n",
    "import numpy as np\n",
    "from sklearn.decomposition import PCA"
   ]
  },
  {
   "cell_type": "code",
   "execution_count": 22,
   "metadata": {
    "collapsed": true
   },
   "outputs": [],
   "source": [
    "ds_test = pd.read_csv('/home/keratin/Documents/CBML/mnist_data/train.csv')"
   ]
  },
  {
   "cell_type": "code",
   "execution_count": 23,
   "metadata": {
    "collapsed": true
   },
   "outputs": [],
   "source": [
    "dim = [2,3,5,7,10,20,50,120,256,314,442]\n",
    "acc = []"
   ]
  },
  {
   "cell_type": "code",
   "execution_count": 25,
   "metadata": {
    "collapsed": false
   },
   "outputs": [
    {
     "name": "stdout",
     "output_type": "stream",
     "text": [
      "(1000,)\n",
      "(1000, 784)\n"
     ]
    }
   ],
   "source": [
    "data = ds_test.values[:1000,1:]\n",
    "labels = ds_test.values[:1000,0]\n",
    "print labels.shape\n",
    "print data.shape\n",
    "data_std = (data-data.mean(axis=0))/(data.std(axis=0)+1e-03)"
   ]
  },
  {
   "cell_type": "code",
   "execution_count": 28,
   "metadata": {
    "collapsed": false
   },
   "outputs": [
    {
     "name": "stdout",
     "output_type": "stream",
     "text": [
      "[0.38500000000000001, 0.46999999999999997, 0.77000000000000002, 0.75, 0.81499999999999995, 0.87, 0.82499999999999996, 0.80000000000000004, 0.77000000000000002, 0.76500000000000001, 0.66500000000000004]\n"
     ]
    }
   ],
   "source": [
    "for ix in dim:\n",
    "    pca = PCA(n_components=ix)\n",
    "    X = pca.fit_transform(data_std)\n",
    "    split = int(0.8*data_std.shape[0])\n",
    "    X_train = X[:split,:]\n",
    "    X_test = X[split:,:]\n",
    "    y_train = labels[:split]\n",
    "    y_test = labels[split:]\n",
    "    \n",
    "    rf = RandomForestClassifier(n_estimators=40,random_state=31)\n",
    "    rf.fit(X_train,y_train)\n",
    "    \n",
    "    acc.append(rf.score(X_test, y_test))\n",
    "print acc"
   ]
  },
  {
   "cell_type": "code",
   "execution_count": 31,
   "metadata": {
    "collapsed": false
   },
   "outputs": [
    {
     "data": {
      "image/png": "[encoded data removed]",
      "text/plain": [
       "<matplotlib.figure.Figure at 0x7f63fa1be6d0>"
      ]
     },
     "metadata": {},
     "output_type": "display_data"
    }
   ],
   "source": [
    "plt.plot(acc)\n",
    "plt.show()"
   ]
  },
  {
   "cell_type": "code",
   "execution_count": null,
   "metadata": {
    "collapsed": true
   },
   "outputs": [],
   "source": []
  }
 ],
 "metadata": {
  "kernelspec": {
   "display_name": "Python 2",
   "language": "python",
   "name": "python2"
  },
  "language_info": {
   "codemirror_mode": {
    "name": "ipython",
    "version": 2
   },
   "file_extension": ".py",
   "mimetype": "text/x-python",
   "name": "python",
   "nbconvert_exporter": "python",
   "pygments_lexer": "ipython2",
   "version": "2.7.6"
  }
 },
 "nbformat": 4,
 "nbformat_minor": 0
}
